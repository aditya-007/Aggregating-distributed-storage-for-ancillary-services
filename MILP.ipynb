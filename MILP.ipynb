{
  "nbformat": 4,
  "nbformat_minor": 0,
  "metadata": {
    "colab": {
      "provenance": [],
      "authorship_tag": "ABX9TyPRb+e9SVd8TuNP5QAj5lAF",
      "include_colab_link": true
    },
    "kernelspec": {
      "name": "python3",
      "display_name": "Python 3"
    },
    "language_info": {
      "name": "python"
    }
  },
  "cells": [
    {
      "cell_type": "markdown",
      "metadata": {
        "id": "view-in-github",
        "colab_type": "text"
      },
      "source": [
        "<a href=\"https://colab.research.google.com/github/aditya-007/Aggregating-distributed-storage-for-ancillary-services/blob/main/MILP.ipynb\" target=\"_parent\"><img src=\"https://colab.research.google.com/assets/colab-badge.svg\" alt=\"Open In Colab\"/></a>"
      ]
    },
    {
      "cell_type": "code",
      "execution_count": null,
      "metadata": {
        "id": "t3RbmX9B08Bo"
      },
      "outputs": [],
      "source": [
        "import pulp as plp"
      ]
    },
    {
      "cell_type": "code",
      "source": [
        "# Define the model\n",
        "model = plp.LpProblem(\"PV-Battery_Ancillary_Services\", plp.LpMaximize)"
      ],
      "metadata": {
        "id": "u0wzj70J1Bhc"
      },
      "execution_count": null,
      "outputs": []
    },
    {
      "cell_type": "code",
      "source": [
        "# Parameters (simplified for the example)\n",
        "T = 96  # Time intervals\n",
        "N = 2000  # Number of users\n",
        "P_min_up = 1  # MW (minimum power for up regulation)\n",
        "P_min_down = 1  # MW (minimum power for down regulation)"
      ],
      "metadata": {
        "id": "ivYOzska1Bek"
      },
      "execution_count": null,
      "outputs": []
    },
    {
      "cell_type": "code",
      "source": [
        "# Up and Down regulation bids (€/MWh)\n",
        "Bid_UP = 120  # Up regulation bid price\n",
        "Bid_DOWN = 40  # Down regulation bid price\n"
      ],
      "metadata": {
        "id": "Ctn4wXTF7Tdu"
      },
      "execution_count": null,
      "outputs": []
    },
    {
      "cell_type": "code",
      "source": [
        "# Variables\n",
        "P_imp = plp.LpVariable.dicts(\"P_imp\", ((i, t) for i in range(N) for t in range(T)), lowBound=0, cat='Continuous')\n",
        "P_exp = plp.LpVariable.dicts(\"P_exp\", ((i, t) for i in range(N) for t in range(T)), lowBound=0, cat='Continuous')\n",
        "P_char = plp.LpVariable.dicts(\"P_char\", ((i, t) for i in range(N) for t in range(T)), lowBound=0, cat='Continuous')\n",
        "P_dchar = plp.LpVariable.dicts(\"P_dchar\", ((i, t) for i in range(N) for t in range(T)), lowBound=0, cat='Continuous')\n",
        "SoC = plp.LpVariable.dicts(\"SoC\", ((i, t) for i in range(N) for t in range(T)), lowBound=0, cat='Continuous')"
      ],
      "metadata": {
        "id": "qxRyO71t1Bbu"
      },
      "execution_count": null,
      "outputs": []
    },
    {
      "cell_type": "code",
      "source": [
        "# Binary decision variables for regulation participation\n",
        "model.z_up = Var(model.t, domain=Binary)  # Binary variable for up regulation\n",
        "model.w_down = Var(model.t, domain=Binary)  # Binary variable for down regulation"
      ],
      "metadata": {
        "id": "XaoK1jci7ZJl"
      },
      "execution_count": null,
      "outputs": []
    },
    {
      "cell_type": "code",
      "source": [
        "# Objective: Maximize (Revenue from regulation) - (Cost of energy)\n",
        "def obj_expression(model):\n",
        "    # Up regulation remuneration\n",
        "    revenue_up = sum(model.z_up[t] * Bid_UP * (sum(model.P_exp[i, t] for i in model.i)) for t in model.t)\n",
        "\n",
        "    # Down regulation remuneration\n",
        "    revenue_down = sum(model.w_down[t] * Bid_DOWN * (sum(model.P_exp[i, t] for i in model.i)) for t in model.t)\n",
        "\n",
        "    # Cost of energy imported from the grid\n",
        "    cost_energy = sum(sum(model.P_imp[i, t] * 180 for i in model.i) for t in model.t)  # 180 €/MWh import cost\n",
        "\n",
        "    return revenue_up + revenue_down - cost_energy\n",
        "\n",
        "model.obj = Objective(rule=obj_expression, sense=maximize)"
      ],
      "metadata": {
        "colab": {
          "base_uri": "https://localhost:8080/",
          "height": 216
        },
        "id": "4maS8HQz1BYn",
        "outputId": "7885e6e9-a8f5-43a0-8d27-0f6f9097d297"
      },
      "execution_count": 1,
      "outputs": [
        {
          "output_type": "error",
          "ename": "NameError",
          "evalue": "name 'plp' is not defined",
          "traceback": [
            "\u001b[0;31m---------------------------------------------------------------------------\u001b[0m",
            "\u001b[0;31mNameError\u001b[0m                                 Traceback (most recent call last)",
            "\u001b[0;32m<ipython-input-1-6808f83a84ac>\u001b[0m in \u001b[0;36m<cell line: 2>\u001b[0;34m()\u001b[0m\n\u001b[1;32m      1\u001b[0m \u001b[0;31m# Objective function: Maximize remuneration - energy cost\u001b[0m\u001b[0;34m\u001b[0m\u001b[0;34m\u001b[0m\u001b[0m\n\u001b[0;32m----> 2\u001b[0;31m \u001b[0mRFlex\u001b[0m \u001b[0;34m=\u001b[0m \u001b[0mplp\u001b[0m\u001b[0;34m.\u001b[0m\u001b[0mlpSum\u001b[0m\u001b[0;34m(\u001b[0m\u001b[0;34m[\u001b[0m\u001b[0mP_imp\u001b[0m\u001b[0;34m[\u001b[0m\u001b[0mi\u001b[0m\u001b[0;34m,\u001b[0m \u001b[0mt\u001b[0m\u001b[0;34m]\u001b[0m \u001b[0;34m-\u001b[0m \u001b[0mP_exp\u001b[0m\u001b[0;34m[\u001b[0m\u001b[0mi\u001b[0m\u001b[0;34m,\u001b[0m \u001b[0mt\u001b[0m\u001b[0;34m]\u001b[0m \u001b[0;32mfor\u001b[0m \u001b[0mi\u001b[0m \u001b[0;32min\u001b[0m \u001b[0mrange\u001b[0m\u001b[0;34m(\u001b[0m\u001b[0mN\u001b[0m\u001b[0;34m)\u001b[0m \u001b[0;32mfor\u001b[0m \u001b[0mt\u001b[0m \u001b[0;32min\u001b[0m \u001b[0mrange\u001b[0m\u001b[0;34m(\u001b[0m\u001b[0mT\u001b[0m\u001b[0;34m)\u001b[0m\u001b[0;34m]\u001b[0m\u001b[0;34m)\u001b[0m\u001b[0;34m\u001b[0m\u001b[0;34m\u001b[0m\u001b[0m\n\u001b[0m\u001b[1;32m      3\u001b[0m \u001b[0mCenergy\u001b[0m \u001b[0;34m=\u001b[0m \u001b[0mplp\u001b[0m\u001b[0;34m.\u001b[0m\u001b[0mlpSum\u001b[0m\u001b[0;34m(\u001b[0m\u001b[0;34m[\u001b[0m\u001b[0mP_imp\u001b[0m\u001b[0;34m[\u001b[0m\u001b[0mi\u001b[0m\u001b[0;34m,\u001b[0m \u001b[0mt\u001b[0m\u001b[0;34m]\u001b[0m \u001b[0;34m*\u001b[0m \u001b[0;36m180\u001b[0m \u001b[0;32mfor\u001b[0m \u001b[0mi\u001b[0m \u001b[0;32min\u001b[0m \u001b[0mrange\u001b[0m\u001b[0;34m(\u001b[0m\u001b[0mN\u001b[0m\u001b[0;34m)\u001b[0m \u001b[0;32mfor\u001b[0m \u001b[0mt\u001b[0m \u001b[0;32min\u001b[0m \u001b[0mrange\u001b[0m\u001b[0;34m(\u001b[0m\u001b[0mT\u001b[0m\u001b[0;34m)\u001b[0m\u001b[0;34m]\u001b[0m\u001b[0;34m)\u001b[0m  \u001b[0;31m# Simplified cost\u001b[0m\u001b[0;34m\u001b[0m\u001b[0;34m\u001b[0m\u001b[0m\n\u001b[1;32m      4\u001b[0m \u001b[0mmodel\u001b[0m \u001b[0;34m+=\u001b[0m \u001b[0mRFlex\u001b[0m \u001b[0;34m-\u001b[0m \u001b[0mCenergy\u001b[0m\u001b[0;34m\u001b[0m\u001b[0;34m\u001b[0m\u001b[0m\n",
            "\u001b[0;31mNameError\u001b[0m: name 'plp' is not defined"
          ]
        }
      ]
    },
    {
      "cell_type": "code",
      "source": [
        "# Constraints\n",
        "\n",
        "# Power balance for each user at each time period\n",
        "def power_balance_rule(model, i, t):\n",
        "    return model.P_imp[i, t] - model.P_exp[i, t] + model.P_dchar[i, t] - model.P_char[i, t] == P_dem[i-1][t-1] - P_gen[i-1][t-1]\n",
        "\n",
        "model.power_balance = Constraint(model.i, model.t, rule=power_balance_rule)\n",
        "\n",
        "# SoC dynamics (battery state of charge over time)\n",
        "def soc_balance_rule(model, i, t):\n",
        "    if t == 1:\n",
        "        return model.SoC[i, t] == battery_capacity / 2  # Initial SoC is 50% full\n",
        "    else:\n",
        "        return model.SoC[i, t] == model.SoC[i, t-1] + charge_efficiency * model.P_char[i, t] - model.P_dchar[i, t] / discharge_efficiency\n",
        "\n",
        "model.soc_balance = Constraint(model.i, model.t, rule=soc_balance_rule)\n",
        "\n",
        "# Battery charging and discharging limits\n",
        "def charge_limit_rule(model, i, t):\n",
        "    return model.P_char[i, t] <= 2  # Maximum charge rate (2 kW for example)\n",
        "\n",
        "def discharge_limit_rule(model, i, t):\n",
        "    return model.P_dchar[i, t] <= 2  # Maximum discharge rate (2 kW for example)\n",
        "\n",
        "model.charge_limit = Constraint(model.i, model.t, rule=charge_limit_rule)\n",
        "model.discharge_limit = Constraint(model.i, model.t, rule=discharge_limit_rule)\n",
        "\n",
        "# Global up regulation constraint\n",
        "def up_regulation_rule(model, t):\n",
        "    return sum(model.P_imp[i, t] - model.P_exp[i, t] for i in model.i) <= P_base[t-1] - P_min_up + (1 - model.z_up[t]) * 1e6\n",
        "\n",
        "model.up_regulation = Constraint(model.t, rule=up_regulation_rule)\n",
        "\n",
        "# Global down regulation constraint\n",
        "def down_regulation_rule(model, t):\n",
        "    return sum(model.P_imp[i, t] - model.P_exp[i, t] for i in model.i) >= P_base[t-1] + P_min_down - (1 - model.w_down[t]) * 1e6\n",
        "\n",
        "model.down_regulation = Constraint(model.t, rule=down_regulation_rule)"
      ],
      "metadata": {
        "id": "n14Sl3sG1BV2"
      },
      "execution_count": null,
      "outputs": []
    },
    {
      "cell_type": "code",
      "source": [
        "# Solve the model\n",
        "solver = SolverFactory('glpk')  # You can use any solver supported by Pyomo, e.g., 'cbc', 'glpk', 'cplex'\n",
        "solver.solve(model)"
      ],
      "metadata": {
        "id": "PykxF9n61BSs"
      },
      "execution_count": null,
      "outputs": []
    },
    {
      "cell_type": "code",
      "source": [
        "# Print results\n",
        "print(\"Status:\", model.obj())\n",
        "for i in model.i:\n",
        "    for t in model.t:\n",
        "        print(f\"User {i}, Time {t}, Import: {model.P_imp[i, t].value}, Export: {model.P_exp[i, t].value}, Charge: {model.P_char[i, t].value}, Discharge: {model.P_dchar[i, t].value}, SoC: {model.SoC[i, t].value}\")\n",
        "\n",
        "for t in model.t:\n",
        "    print(f\"Time {t}, Up Regulation: {model.z_up[t].value}, Down Regulation: {model.w_down[t].value}\")"
      ],
      "metadata": {
        "id": "PShQGTOH1BPy"
      },
      "execution_count": null,
      "outputs": []
    },
    {
      "cell_type": "code",
      "source": [],
      "metadata": {
        "id": "4RvI9Unf1BMw"
      },
      "execution_count": null,
      "outputs": []
    }
  ]
}